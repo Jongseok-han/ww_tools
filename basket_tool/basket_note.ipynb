{
 "cells": [
  {
   "cell_type": "code",
   "execution_count": null,
   "id": "b6a4c5ef",
   "metadata": {},
   "outputs": [],
   "source": [
    "from urllib.request import urlretrieve\n",
    "\n",
    "# Download all required scripts\n",
    "repo = \"Jongseok-han/ww_tools/main/basket_tool/\"\n",
    "base_url = f\"https://raw.githubusercontent.com/{repo}\"\n",
    "files = [\n",
    "    \"basket_agents.py\",\n",
    "    \"basket_agent_tools.py\",\n",
    "    \"basket_pipeline.py\"\n",
    "]\n",
    "\n",
    "for file in files:\n",
    "    urlretrieve(base_url + file, file)\n",
    "    print(f\"✅ Downloaded {file}\")"
   ]
  },
  {
   "cell_type": "code",
   "execution_count": null,
   "id": "75f25a41",
   "metadata": {},
   "outputs": [],
   "source": "import pandas as pd\nimport numpy as np\nimport matplotlib.pyplot as plt\nfrom pathlib import Path\nimport warnings\nwarnings.filterwarnings('ignore')\n\n# Import Xano API wrapper functions\nfrom xano_api import (\n    get_all_companies_data,\n    df_join,\n    preprocess_string_numbers)"
  },
  {
   "cell_type": "code",
   "execution_count": 4,
   "id": "bedc2d7f",
   "metadata": {},
   "outputs": [
    {
     "name": "stdout",
     "output_type": "stream",
     "text": [
      "✅ Loaded 1043 companies\n",
      "📊 Summary: Converted 2 columns to numeric\n"
     ]
    }
   ],
   "source": [
    "# Load company data - it already has all filtering fields built-in!\n",
    "companies = get_all_companies_data('company', as_dataframe=True)\n",
    "print(f\"✅ Loaded {len(companies)} companies\")\n",
    "\n",
    "df, cols = preprocess_string_numbers(companies.copy())"
   ]
  },
  {
   "cell_type": "code",
   "execution_count": 5,
   "id": "14333f92",
   "metadata": {},
   "outputs": [
    {
     "name": "stdout",
     "output_type": "stream",
     "text": [
      "\n",
      "✅ Comprehensive df created: 1047 companies × 38 columns\n",
      "   All analysis data joined using original 'id' column only\n",
      "\n",
      "🔍 Sample data:\n"
     ]
    },
    {
     "data": {
      "text/html": [
       "<div>\n",
       "<style scoped>\n",
       "    .dataframe tbody tr th:only-of-type {\n",
       "        vertical-align: middle;\n",
       "    }\n",
       "\n",
       "    .dataframe tbody tr th {\n",
       "        vertical-align: top;\n",
       "    }\n",
       "\n",
       "    .dataframe thead th {\n",
       "        text-align: right;\n",
       "    }\n",
       "</style>\n",
       "<table border=\"1\" class=\"dataframe\">\n",
       "  <thead>\n",
       "    <tr style=\"text-align: right;\">\n",
       "      <th></th>\n",
       "      <th>ticker</th>\n",
       "      <th>name</th>\n",
       "      <th>sector</th>\n",
       "      <th>market_cap</th>\n",
       "      <th>valuation_classification</th>\n",
       "    </tr>\n",
       "  </thead>\n",
       "  <tbody>\n",
       "    <tr>\n",
       "      <th>0</th>\n",
       "      <td>CCL</td>\n",
       "      <td>Carnival Corporation &amp; plc</td>\n",
       "      <td>Consumer Cyclical</td>\n",
       "      <td>36.0</td>\n",
       "      <td>Cyclical Business</td>\n",
       "    </tr>\n",
       "    <tr>\n",
       "      <th>1</th>\n",
       "      <td>NFLX</td>\n",
       "      <td>Netflix, Inc.</td>\n",
       "      <td>Communication Services</td>\n",
       "      <td>510.0</td>\n",
       "      <td>Over Valued</td>\n",
       "    </tr>\n",
       "    <tr>\n",
       "      <th>2</th>\n",
       "      <td>ACM</td>\n",
       "      <td>Aecom</td>\n",
       "      <td>Industrials</td>\n",
       "      <td>17.0</td>\n",
       "      <td>Cyclical Business</td>\n",
       "    </tr>\n",
       "  </tbody>\n",
       "</table>\n",
       "</div>"
      ],
      "text/plain": [
       "  ticker                        name                  sector  market_cap  \\\n",
       "0    CCL  Carnival Corporation & plc       Consumer Cyclical        36.0   \n",
       "1   NFLX               Netflix, Inc.  Communication Services       510.0   \n",
       "2    ACM                       Aecom             Industrials        17.0   \n",
       "\n",
       "  valuation_classification  \n",
       "0        Cyclical Business  \n",
       "1              Over Valued  \n",
       "2        Cyclical Business  "
      ]
     },
     "execution_count": 5,
     "metadata": {},
     "output_type": "execute_result"
    }
   ],
   "source": [
    "# Load detailed analysis data\n",
    "cyclicality = get_all_companies_data('cyclicality', as_dataframe=True)\n",
    "growth = get_all_companies_data('growth', as_dataframe=True)\n",
    "valuation = get_all_companies_data('valuation', as_dataframe=True)\n",
    "lifecycle = get_all_companies_data('lifecycle', as_dataframe=True)\n",
    "cagr_prediction = get_all_companies_data('cagr_prediction', as_dataframe=True)\n",
    "\n",
    "df = df_join(df, cyclicality, 'cyclicality')\n",
    "df = df_join(df, growth, 'growth')\n",
    "df = df_join(df, valuation, 'valuation')\n",
    "df = df_join(df, lifecycle, 'lifecycle')\n",
    "df = df_join(df, cagr_prediction, 'cagr')\n",
    "\n",
    "print(f\"\\n✅ Comprehensive df created: {len(df)} companies × {len(df.columns)} columns\")\n",
    "print(f\"   All analysis data joined using original 'id' column only\")\n",
    "print(f\"\\n🔍 Sample data:\")\n",
    "df[['ticker', 'name', 'sector', 'market_cap', 'valuation_classification']].head(3)"
   ]
  },
  {
   "cell_type": "code",
   "execution_count": 6,
   "id": "a32256f1",
   "metadata": {},
   "outputs": [],
   "source": [
    "# Workflow Design\n",
    "\n",
    "# Step 1: Filter with `df` (companies table)\n",
    "# - Fast filtering on market_cap, sector, classifications, etc.\n",
    "\n",
    "# Step 2: Get detailed insights from other tables\n",
    "# - After filtering, join with `cyclicality`, `growth`, `valuation`, etc.\n",
    "# - These contain rich `data` columns with reasoning, analysis, recommendations\n",
    "# - Example: `cyclicality_data` has classification reasoning and investor strategy"
   ]
  },
  {
   "cell_type": "code",
   "execution_count": 7,
   "id": "dd3a4b53",
   "metadata": {},
   "outputs": [
    {
     "name": "stdout",
     "output_type": "stream",
     "text": [
      "Dataset: 1047 companies\n",
      "Workflow:\n",
      " 1. LoopAgent: [QueryGenerator, QueryEvaluator] - Iterative query refinement\n",
      " 2. SequentialAgent: [RefinementLoop, RankingAgent] - Filter & rank\n",
      "\n",
      "Quick preview:\n"
     ]
    },
    {
     "data": {
      "text/html": [
       "<div>\n",
       "<style scoped>\n",
       "    .dataframe tbody tr th:only-of-type {\n",
       "        vertical-align: middle;\n",
       "    }\n",
       "\n",
       "    .dataframe tbody tr th {\n",
       "        vertical-align: top;\n",
       "    }\n",
       "\n",
       "    .dataframe thead th {\n",
       "        text-align: right;\n",
       "    }\n",
       "</style>\n",
       "<table border=\"1\" class=\"dataframe\">\n",
       "  <thead>\n",
       "    <tr style=\"text-align: right;\">\n",
       "      <th></th>\n",
       "      <th>ticker</th>\n",
       "      <th>name</th>\n",
       "      <th>sector</th>\n",
       "      <th>market_cap</th>\n",
       "      <th>valuation_classification</th>\n",
       "      <th>growth_classification</th>\n",
       "    </tr>\n",
       "  </thead>\n",
       "  <tbody>\n",
       "    <tr>\n",
       "      <th>0</th>\n",
       "      <td>CCL</td>\n",
       "      <td>Carnival Corporation &amp; plc</td>\n",
       "      <td>Consumer Cyclical</td>\n",
       "      <td>36.0</td>\n",
       "      <td>Cyclical Business</td>\n",
       "      <td>Moderate Earnings Growth</td>\n",
       "    </tr>\n",
       "    <tr>\n",
       "      <th>1</th>\n",
       "      <td>NFLX</td>\n",
       "      <td>Netflix, Inc.</td>\n",
       "      <td>Communication Services</td>\n",
       "      <td>510.0</td>\n",
       "      <td>Over Valued</td>\n",
       "      <td>Strong Earnings Growth</td>\n",
       "    </tr>\n",
       "    <tr>\n",
       "      <th>2</th>\n",
       "      <td>ACM</td>\n",
       "      <td>Aecom</td>\n",
       "      <td>Industrials</td>\n",
       "      <td>17.0</td>\n",
       "      <td>Cyclical Business</td>\n",
       "      <td>Moderate Earnings Growth</td>\n",
       "    </tr>\n",
       "  </tbody>\n",
       "</table>\n",
       "</div>"
      ],
      "text/plain": [
       "  ticker                        name                  sector  market_cap  \\\n",
       "0    CCL  Carnival Corporation & plc       Consumer Cyclical        36.0   \n",
       "1   NFLX               Netflix, Inc.  Communication Services       510.0   \n",
       "2    ACM                       Aecom             Industrials        17.0   \n",
       "\n",
       "  valuation_classification     growth_classification  \n",
       "0        Cyclical Business  Moderate Earnings Growth  \n",
       "1              Over Valued    Strong Earnings Growth  \n",
       "2        Cyclical Business  Moderate Earnings Growth  "
      ]
     },
     "execution_count": 7,
     "metadata": {},
     "output_type": "execute_result"
    }
   ],
   "source": [
    "# Import the basket pipeline\n",
    "from basket_pipeline import find_investment_opportunities, display_recommendations\n",
    "\n",
    "print(f\"Dataset: {len(df)} companies\")\n",
    "print(f\"Workflow:\")\n",
    "print(\" 1. LoopAgent: [QueryGenerator, QueryEvaluator] - Iterative query refinement\")\n",
    "print(\" 2. SequentialAgent: [RefinementLoop, RankingAgent] - Filter & rank\")\n",
    "print(f\"\\nQuick preview:\")\n",
    "df[['ticker', 'name', 'sector', 'market_cap', 'valuation_classification', 'growth_classification']].head(3)"
   ]
  },
  {
   "cell_type": "code",
   "execution_count": 8,
   "id": "39w2xh1iao2",
   "metadata": {},
   "outputs": [
    {
     "name": "stdout",
     "output_type": "stream",
     "text": [
      "\n",
      "====================================================================================================\n",
      "COMPANY FILTERING PIPELINE\n",
      "====================================================================================================\n",
      "Criteria: undervalued companies within non-tech fields for risk-averse long-term investment\n",
      "Target: Top 5 companies\n",
      "Max refinement iterations: 3\n",
      "====================================================================================================\n",
      "\n"
     ]
    },
    {
     "name": "stderr",
     "output_type": "stream",
     "text": [
      "Warning: there are non-text parts in the response: ['function_call'], returning concatenated text result from text parts. Check the full candidates.content.parts accessor to get the full model response.\n"
     ]
    },
    {
     "name": "stdout",
     "output_type": "stream",
     "text": [
      "\n",
      "   📝 INITIAL (Iteration 1):\n",
      "   Query: df[(df['valuation_classification'] == 'Under Valued') & (df['sector'] != 'Technology')]\n"
     ]
    },
    {
     "name": "stderr",
     "output_type": "stream",
     "text": [
      "Warning: there are non-text parts in the response: ['function_call'], returning concatenated text result from text parts. Check the full candidates.content.parts accessor to get the full model response.\n"
     ]
    },
    {
     "name": "stdout",
     "output_type": "stream",
     "text": [
      "   ✓ Result count: 98\n",
      "   📊 Sorted by cagr_eps_forecast_10yr (descending) - top 50 selected for ranking\n",
      "   ✅ APPROVED: 98 results is adequate (target: 5-100)\n",
      "   🛑 Exiting refinement loop\n"
     ]
    },
    {
     "name": "stderr",
     "output_type": "stream",
     "text": [
      "Warning: there are non-text parts in the response: ['function_call'], returning concatenated text result from text parts. Check the full candidates.content.parts accessor to get the full model response.\n"
     ]
    },
    {
     "name": "stdout",
     "output_type": "stream",
     "text": [
      "\n",
      "   📊 Providing 50 companies to agent for ranking\n",
      "   📋 Available tickers (sample): DKNG, CAVA, SNAP, ABNB, ETSY\n"
     ]
    },
    {
     "name": "stderr",
     "output_type": "stream",
     "text": [
      "Warning: there are non-text parts in the response: ['function_call'], returning concatenated text result from text parts. Check the full candidates.content.parts accessor to get the full model response.\n"
     ]
    },
    {
     "name": "stdout",
     "output_type": "stream",
     "text": [
      "   ✅ Stored 5 ranked companies\n",
      "\n",
      "====================================================================================================\n",
      "PIPELINE COMPLETE\n",
      "====================================================================================================\n",
      "Query refinement iterations: 1\n",
      "Filtered companies: 98\n",
      "Ranked recommendations: 5\n",
      "====================================================================================================\n",
      "\n",
      "\n",
      "====================================================================================================\n",
      "TOP COMPANY RECOMMENDATIONS\n",
      "====================================================================================================\n",
      "\n",
      "#1 - PRI (Primerica, Inc.) - Score: 88/100\n",
      "----------------------------------------------------------------------------------------------------\n",
      "Score Breakdown: Strong alignment (38/40) + growth (17/20) + valuation (17/20) + risk (16/20)\n",
      "\n",
      "Recommendation: Primerica demonstrates a robust business model focused on providing financial services to middle-income families, resulting in stable and predictable revenue with a consistent history, undervalued, and attractive dividend yield.\n",
      "\n",
      "Investment Thesis: Defensive business model with high returns on equity.\n",
      "\n",
      "Key Metrics:\n",
      "  • market_cap: 8.0\n",
      "  • sector: Financial Services\n",
      "  • cagr_eps_forecast_10yr: 9.0\n",
      "  • valuation_classification: Under Valued\n",
      "  • growth_classification: Moderate Earnings Growth\n",
      "  • cyclicality_classification: Consistent Compounding Earnings\n",
      "\n",
      "#2 - CNM (Core & Main, Inc.) - Score: 85/100\n",
      "----------------------------------------------------------------------------------------------------\n",
      "Score Breakdown: Strong alignment (37/40) + growth (16/20) + valuation (16/20) + risk (16/20)\n",
      "\n",
      "Recommendation: Core & Main benefits from infrastructure spending tailwinds, has strong profitability, and a good free cash flow with a solid balance sheet in a duopoly market.\n",
      "\n",
      "Investment Thesis: Essential services in fragmented market.\n",
      "\n",
      "Key Metrics:\n",
      "  • market_cap: 9.0\n",
      "  • sector: Industrials\n",
      "  • cagr_eps_forecast_10yr: 12.0\n",
      "  • valuation_classification: Under Valued\n",
      "  • growth_classification: Moderate Revenue Growth\n",
      "  • cyclicality_classification: Early Growth Stage Earnings\n",
      "\n",
      "#3 - CAVA (CAVA Group, Inc.) - Score: 83/100\n",
      "----------------------------------------------------------------------------------------------------\n",
      "Score Breakdown: Good alignment (36/40) + growth (17/20) + valuation (15/20) + risk (15/20)\n",
      "\n",
      "Recommendation: CAVA Group presents a compelling growth-to-profitability transition with strong operational improvements and the potential for market share expansion in the fast-casual restaurant sector.\n",
      "\n",
      "Investment Thesis: Successful scaling of Mediterranean fast-casual concept.\n",
      "\n",
      "Key Metrics:\n",
      "  • market_cap: 7.0\n",
      "  • sector: Consumer Cyclical\n",
      "  • cagr_eps_forecast_10yr: 15.0\n",
      "  • valuation_classification: Under Valued\n",
      "  • growth_classification: Moderate Revenue Growth\n",
      "  • cyclicality_classification: Early Growth Stage Earnings\n",
      "\n",
      "#4 - ABNB (Airbnb, Inc.) - Score: 80/100\n",
      "----------------------------------------------------------------------------------------------------\n",
      "Score Breakdown: Good alignment (35/40) + growth (16/20) + valuation (15/20) + risk (14/20)\n",
      "\n",
      "Recommendation: Airbnb exhibits strong fundamental improvement with excellent profitability recovery, a conservative financial structure, and sustainable cash flow generation.\n",
      "\n",
      "Investment Thesis: Market-leading travel platform with asset-light economics.\n",
      "\n",
      "Key Metrics:\n",
      "  • market_cap: 73.0\n",
      "  • sector: Consumer Cyclical\n",
      "  • cagr_eps_forecast_10yr: 12.0\n",
      "  • valuation_classification: Under Valued\n",
      "  • growth_classification: Moderate Revenue Growth\n",
      "  • cyclicality_classification: Early Growth Stage Earnings\n",
      "\n",
      "#5 - LTH (Life Time Group Holdings, Inc.) - Score: 78/100\n",
      "----------------------------------------------------------------------------------------------------\n",
      "Score Breakdown: Good alignment (34/40) + growth (15/20) + valuation (14/20) + risk (15/20)\n",
      "\n",
      "Recommendation: Life Time Group Holdings demonstrates strong operational recovery and growth trajectory post-pandemic, with improving profitability metrics and capital efficiency.\n",
      "\n",
      "Investment Thesis: Premium brand in underserved niche of the health and wellness market.\n",
      "\n",
      "Key Metrics:\n",
      "  • market_cap: 5.0\n",
      "  • sector: Consumer Cyclical\n",
      "  • cagr_eps_forecast_10yr: 12.0\n",
      "  • valuation_classification: Under Valued\n",
      "  • growth_classification: Moderate Revenue Growth\n",
      "  • cyclicality_classification: Early Growth Stage Earnings\n",
      "\n",
      "\n",
      "🏆 Top Pick: PRI\n",
      "   Score: 88/100\n",
      "   Breakdown: Strong alignment (38/40) + growth (17/20) + valuation (17/20) + risk (16/20)\n"
     ]
    }
   ],
   "source": [
    "# Example 1: Undervalued companies for long-term investment\n",
    "recommendations = find_investment_opportunities(\n",
    "    df=df,\n",
    "    criteria=\"undervalued companies within non-tech fields for risk-averse long-term investment\",\n",
    "    top_n=5\n",
    ")\n",
    "\n",
    "# Display recommendations\n",
    "display_recommendations(recommendations)\n",
    "\n",
    "# Access individual recommendations\n",
    "if recommendations:\n",
    "    print(f\"\\n🏆 Top Pick: {recommendations[0].ticker}\")\n",
    "    print(f\"   Score: {recommendations[0].score}/100\")\n",
    "    print(f\"   Breakdown: {recommendations[0].score_breakdown}\")"
   ]
  },
  {
   "cell_type": "code",
   "execution_count": 9,
   "id": "cc3txfmz4i",
   "metadata": {},
   "outputs": [
    {
     "name": "stdout",
     "output_type": "stream",
     "text": [
      "\n",
      "====================================================================================================\n",
      "COMPANY FILTERING PIPELINE\n",
      "====================================================================================================\n",
      "Criteria: grocery-related companies with market cap over 100 billion and EPS growth > 5% per year\n",
      "Target: Top 5 companies\n",
      "Max refinement iterations: 3\n",
      "====================================================================================================\n",
      "\n"
     ]
    },
    {
     "name": "stderr",
     "output_type": "stream",
     "text": [
      "Warning: there are non-text parts in the response: ['function_call'], returning concatenated text result from text parts. Check the full candidates.content.parts accessor to get the full model response.\n"
     ]
    },
    {
     "name": "stdout",
     "output_type": "stream",
     "text": [
      "\n",
      "   📝 INITIAL (Iteration 1):\n",
      "   Query: df[(df['sector'] == 'Consumer Defensive') & (df['market_cap'] > 100) & (df['cagr_eps_forecast_10yr'] > 5)]\n"
     ]
    },
    {
     "name": "stderr",
     "output_type": "stream",
     "text": [
      "Warning: there are non-text parts in the response: ['function_call'], returning concatenated text result from text parts. Check the full candidates.content.parts accessor to get the full model response.\n"
     ]
    },
    {
     "name": "stdout",
     "output_type": "stream",
     "text": [
      "   ✓ Result count: 6\n",
      "   ✅ APPROVED: 6 results is adequate (target: 5-100)\n",
      "   🛑 Exiting refinement loop\n"
     ]
    },
    {
     "name": "stderr",
     "output_type": "stream",
     "text": [
      "Warning: there are non-text parts in the response: ['function_call'], returning concatenated text result from text parts. Check the full candidates.content.parts accessor to get the full model response.\n"
     ]
    },
    {
     "name": "stdout",
     "output_type": "stream",
     "text": [
      "\n",
      "   📊 Providing 6 companies to agent for ranking\n",
      "   📋 Available tickers (sample): COST, PM, KO, PEP, WMT\n"
     ]
    },
    {
     "name": "stderr",
     "output_type": "stream",
     "text": [
      "Warning: there are non-text parts in the response: ['function_call'], returning concatenated text result from text parts. Check the full candidates.content.parts accessor to get the full model response.\n"
     ]
    },
    {
     "name": "stdout",
     "output_type": "stream",
     "text": [
      "   ✅ Stored 5 ranked companies\n",
      "\n",
      "====================================================================================================\n",
      "PIPELINE COMPLETE\n",
      "====================================================================================================\n",
      "Query refinement iterations: 1\n",
      "Filtered companies: 6\n",
      "Ranked recommendations: 5\n",
      "====================================================================================================\n",
      "\n",
      "\n",
      "====================================================================================================\n",
      "TOP COMPANY RECOMMENDATIONS\n",
      "====================================================================================================\n",
      "\n",
      "#1 - COST (Costco Wholesale Corporation) - Score: 88/100\n",
      "----------------------------------------------------------------------------------------------------\n",
      "Score Breakdown: Strong alignment (38/40) + Growth (18/20) + Valuation (16/20) + Risk/Reward (16/20)\n",
      "\n",
      "Recommendation: Costco demonstrates exceptional financial strength, consistent earnings growth, and a defensive business model. Although currently overvalued, its operational excellence and membership model justify its status as a top-ranked company.\n",
      "\n",
      "Investment Thesis: High-quality defensive compounder with a strong membership model driving recurring revenue and earnings growth.\n",
      "\n",
      "Key Metrics:\n",
      "  • market_cap: 412.0\n",
      "  • sector: Consumer Defensive\n",
      "  • cagr_eps_forecast_10yr: 9.0\n",
      "  • valuation_classification: Over Valued\n",
      "  • growth_classification: Moderate Earnings Growth\n",
      "  • cyclicality_classification: Consistent Compounding Earnings\n",
      "\n",
      "#2 - WMT (Walmart Inc.) - Score: 83/100\n",
      "----------------------------------------------------------------------------------------------------\n",
      "Score Breakdown: Strong alignment (36/40) + Growth (16/20) + Valuation (15/20) + Risk/Reward (16/20)\n",
      "\n",
      "Recommendation: Walmart's strong operational recovery and defensive characteristics, combined with its market dominance and investments in e-commerce, make it a solid choice. However, current valuation multiples appear stretched.\n",
      "\n",
      "Investment Thesis: Market-leading retailer with a focus on digital transformation and omnichannel growth, providing stability and consistent returns.\n",
      "\n",
      "Key Metrics:\n",
      "  • market_cap: 811.0\n",
      "  • sector: Consumer Defensive\n",
      "  • cagr_eps_forecast_10yr: 6.0\n",
      "  • valuation_classification: Over Valued\n",
      "  • growth_classification: Moderate Earnings Growth\n",
      "  • cyclicality_classification: Consistent Compounding Earnings\n",
      "\n",
      "#3 - PG (The Procter & Gamble Company) - Score: 80/100\n",
      "----------------------------------------------------------------------------------------------------\n",
      "Score Breakdown: Strong alignment (35/40) + Growth (15/20) + Valuation (15/20) + Risk/Reward (15/20)\n",
      "\n",
      "Recommendation: Procter & Gamble demonstrates exceptional financial health, strong profitability, and defensive characteristics. Its consistent performance and operational efficiency make it an attractive core holding, though valuation is fair.\n",
      "\n",
      "Investment Thesis: Defensive, stable company with a diversified portfolio of essential household and personal care products, offering reliable dividend income and moderate growth.\n",
      "\n",
      "Key Metrics:\n",
      "  • market_cap: 350.0\n",
      "  • sector: Consumer Defensive\n",
      "  • cagr_eps_forecast_10yr: 6.0\n",
      "  • valuation_classification: Fair Valued\n",
      "  • growth_classification: Moderate Earnings Growth\n",
      "  • cyclicality_classification: Consistent Compounding Earnings\n",
      "\n",
      "#4 - PEP (PepsiCo, Inc.) - Score: 78/100\n",
      "----------------------------------------------------------------------------------------------------\n",
      "Score Breakdown: Good alignment (34/40) + Growth (15/20) + Valuation (14/20) + Risk/Reward (15/20)\n",
      "\n",
      "Recommendation: PepsiCo exhibits strong defensive characteristics with consistent profitability, growing free cash flow, and attractive shareholder returns. While facing some margin pressure, its brand strength and diversified portfolio support its position.\n",
      "\n",
      "Investment Thesis: Diversified food and beverage company with a strong brand portfolio, offering stable compounding returns in the consumer defensive sector.\n",
      "\n",
      "Key Metrics:\n",
      "  • market_cap: 205.0\n",
      "  • sector: Consumer Defensive\n",
      "  • cagr_eps_forecast_10yr: 6.0\n",
      "  • valuation_classification: Fair Valued\n",
      "  • growth_classification: Moderate Earnings Growth\n",
      "  • cyclicality_classification: Consistent Compounding Earnings\n",
      "\n",
      "#5 - KO (The Coca-Cola Company) - Score: 75/100\n",
      "----------------------------------------------------------------------------------------------------\n",
      "Score Breakdown: Good alignment (33/40) + Growth (14/20) + Valuation (13/20) + Risk/Reward (15/20)\n",
      "\n",
      "Recommendation: Coca-Cola demonstrates strong defensive characteristics, improving profitability, and operational efficiency. However, investors should monitor the temporary free cash flow pressure.\n",
      "\n",
      "Investment Thesis: Global beverage giant with a strong brand and distribution network, providing consistent returns and dividend stability.\n",
      "\n",
      "Key Metrics:\n",
      "  • market_cap: 288.0\n",
      "  • sector: Consumer Defensive\n",
      "  • cagr_eps_forecast_10yr: 6.0\n",
      "  • valuation_classification: Over Valued\n",
      "  • growth_classification: Moderate Earnings Growth\n",
      "  • cyclicality_classification: Consistent Compounding Earnings\n",
      "\n",
      "\n",
      "🏆 Top Pick: COST\n",
      "   Score: 88/100\n",
      "   Breakdown: Strong alignment (38/40) + Growth (18/20) + Valuation (16/20) + Risk/Reward (16/20)\n"
     ]
    }
   ],
   "source": [
    "# Example 2: Grocery-related companies with specific criteria\n",
    "recommendations = find_investment_opportunities(\n",
    "    df=df,\n",
    "    criteria=\"grocery-related companies with market cap over 100 billion and EPS growth > 5% per year\",\n",
    "    top_n=5\n",
    ")\n",
    "\n",
    "# Display recommendations\n",
    "display_recommendations(recommendations)\n",
    "\n",
    "# Access individual recommendations\n",
    "if recommendations:\n",
    "    print(f\"\\n🏆 Top Pick: {recommendations[0].ticker}\")\n",
    "    print(f\"   Score: {recommendations[0].score}/100\")\n",
    "    print(f\"   Breakdown: {recommendations[0].score_breakdown}\")"
   ]
  },
  {
   "cell_type": "code",
   "execution_count": 10,
   "id": "ae356d43",
   "metadata": {},
   "outputs": [
    {
     "name": "stdout",
     "output_type": "stream",
     "text": [
      "\n",
      "====================================================================================================\n",
      "COMPANY FILTERING PIPELINE\n",
      "====================================================================================================\n",
      "Criteria: FIND CYCLICAL COMPANIES WHICH ARE TRADING CLOSE TO THE RECOMMENDED BUY PRICE FOR RISK-AVERSE LONG-TERM INVESTMENT\n",
      "Target: Top 5 companies\n",
      "Max refinement iterations: 3\n",
      "====================================================================================================\n",
      "\n"
     ]
    },
    {
     "name": "stderr",
     "output_type": "stream",
     "text": [
      "Warning: there are non-text parts in the response: ['function_call'], returning concatenated text result from text parts. Check the full candidates.content.parts accessor to get the full model response.\n"
     ]
    },
    {
     "name": "stdout",
     "output_type": "stream",
     "text": [
      "\n",
      "   📝 INITIAL (Iteration 1):\n",
      "   Query: df[df['cyclicality_classification'] == 'Cyclical Earnings']\n"
     ]
    },
    {
     "name": "stderr",
     "output_type": "stream",
     "text": [
      "Warning: there are non-text parts in the response: ['function_call'], returning concatenated text result from text parts. Check the full candidates.content.parts accessor to get the full model response.\n"
     ]
    },
    {
     "name": "stdout",
     "output_type": "stream",
     "text": [
      "   ✓ Result count: 461\n",
      "   📊 Sorted by cagr_eps_forecast_10yr (descending) - top 50 selected for ranking\n",
      "   ❌ REJECTED: Too many results: 461 (target: 5-100)\n",
      "   💡 Refinement guidance: Too many results: 461 (target: 5-100). Tighten ONLY numerical thresholds - DO NOT change categorical filters.\n"
     ]
    },
    {
     "name": "stderr",
     "output_type": "stream",
     "text": [
      "Warning: there are non-text parts in the response: ['function_call'], returning concatenated text result from text parts. Check the full candidates.content.parts accessor to get the full model response.\n"
     ]
    },
    {
     "name": "stdout",
     "output_type": "stream",
     "text": [
      "\n",
      "   🔄 REFINEMENT (Iteration 2):\n",
      "   Query: df[(df['cyclicality_classification'] == 'Cyclical Earnings') & (df['market_cap'] < 200)]\n",
      "   Previous count: 461\n"
     ]
    },
    {
     "name": "stderr",
     "output_type": "stream",
     "text": [
      "Warning: there are non-text parts in the response: ['function_call'], returning concatenated text result from text parts. Check the full candidates.content.parts accessor to get the full model response.\n"
     ]
    },
    {
     "name": "stdout",
     "output_type": "stream",
     "text": [
      "   ✓ Result count: 438\n",
      "   📊 Sorted by cagr_eps_forecast_10yr (descending) - top 50 selected for ranking\n",
      "   ❌ REJECTED: Too many results: 438 (target: 5-100)\n",
      "   💡 Refinement guidance: Too many results: 438 (target: 5-100). Tighten ONLY numerical thresholds - DO NOT change categorical filters.\n"
     ]
    },
    {
     "name": "stderr",
     "output_type": "stream",
     "text": [
      "Warning: there are non-text parts in the response: ['function_call'], returning concatenated text result from text parts. Check the full candidates.content.parts accessor to get the full model response.\n"
     ]
    },
    {
     "name": "stdout",
     "output_type": "stream",
     "text": [
      "\n",
      "   🔄 REFINEMENT (Iteration 3):\n",
      "   Query: df[(df['cyclicality_classification'] == 'Cyclical Earnings') & (df['market_cap'] < 100)]\n",
      "   Previous count: 438\n"
     ]
    },
    {
     "name": "stderr",
     "output_type": "stream",
     "text": [
      "Warning: there are non-text parts in the response: ['function_call'], returning concatenated text result from text parts. Check the full candidates.content.parts accessor to get the full model response.\n"
     ]
    },
    {
     "name": "stdout",
     "output_type": "stream",
     "text": [
      "   ✓ Result count: 410\n",
      "   📊 Sorted by cagr_eps_forecast_10yr (descending) - top 50 selected for ranking\n",
      "   ❌ REJECTED: Too many results: 410 (target: 5-100)\n",
      "   💡 Refinement guidance: Too many results: 410 (target: 5-100). Tighten ONLY numerical thresholds - DO NOT change categorical filters.\n"
     ]
    },
    {
     "name": "stderr",
     "output_type": "stream",
     "text": [
      "Warning: there are non-text parts in the response: ['function_call'], returning concatenated text result from text parts. Check the full candidates.content.parts accessor to get the full model response.\n"
     ]
    },
    {
     "name": "stdout",
     "output_type": "stream",
     "text": [
      "\n",
      "   📊 Providing 50 companies to agent for ranking\n",
      "   📋 Available tickers (sample): ARES, LNG, SMCI, MSTR, Z\n",
      "\n",
      "====================================================================================================\n",
      "PIPELINE COMPLETE\n",
      "====================================================================================================\n",
      "Query refinement iterations: 3\n",
      "Filtered companies: 410\n",
      "Ranked recommendations: 0\n",
      "====================================================================================================\n",
      "\n",
      "\n",
      "No recommendations found\n"
     ]
    }
   ],
   "source": [
    "# Example 3: Small cap cyclical companies for long-term investment\n",
    "recommendations = find_investment_opportunities(\n",
    "    df=df,\n",
    "    criteria=\"FIND CYCLICAL COMPANIES WHICH ARE TRADING CLOSE TO THE RECOMMENDED BUY PRICE FOR RISK-AVERSE LONG-TERM INVESTMENT\",\n",
    "    top_n=5\n",
    ")\n",
    "\n",
    "# Display recommendations\n",
    "display_recommendations(recommendations)\n",
    "\n",
    "# Access individual recommendations\n",
    "if recommendations:\n",
    "    print(f\"\\n🏆 Top Pick: {recommendations[0].ticker}\")\n",
    "    print(f\"   Score: {recommendations[0].score}/100\")\n",
    "    print(f\"   Breakdown: {recommendations[0].score_breakdown}\")"
   ]
  },
  {
   "cell_type": "code",
   "execution_count": null,
   "id": "26a11da9",
   "metadata": {},
   "outputs": [],
   "source": []
  }
 ],
 "metadata": {
  "kernelspec": {
   "display_name": "myenv",
   "language": "python",
   "name": "python3"
  },
  "language_info": {
   "codemirror_mode": {
    "name": "ipython",
    "version": 3
   },
   "file_extension": ".py",
   "mimetype": "text/x-python",
   "name": "python",
   "nbconvert_exporter": "python",
   "pygments_lexer": "ipython3",
   "version": "3.10.18"
  }
 },
 "nbformat": 4,
 "nbformat_minor": 5
}